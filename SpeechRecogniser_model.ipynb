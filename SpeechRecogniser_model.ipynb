{
 "cells": [
  {
   "cell_type": "code",
   "execution_count": 23,
   "metadata": {},
   "outputs": [],
   "source": [
    "import speech_recognition as sr\n",
    "import webbrowser as wb\n",
    "\n"
   ]
  },
  {
   "cell_type": "code",
   "execution_count": 24,
   "metadata": {},
   "outputs": [
    {
     "name": "stdout",
     "output_type": "stream",
     "text": [
      "[search edureka : search youtube]\n",
      "speak now\n",
      "Search your query\n",
      "python\n"
     ]
    }
   ],
   "source": [
    "# converting speech to text \n",
    "\n",
    "r1=sr.Recognizer()\n",
    "r2=sr.Recognizer()\n",
    "r3=sr.Recognizer()\n",
    "\n",
    "with sr.Microphone() as source:\n",
    "    print('[search edureka : search youtube]')\n",
    "    print('speak now')\n",
    "    audio=r3.listen(source)\n",
    "    \n",
    "if 'edureka' in r2.recognize_google(audio):\n",
    "    r2=sr.Recognizer()\n",
    "    url='https://www.eudreka.co/'\n",
    "    with sr.Microphone() as source:\n",
    "        print('Search your query')\n",
    "        audio=r2.listen(source)\n",
    "        \n",
    "        try:\n",
    "            get=r2.recognize_google(audio)\n",
    "            print(get)\n",
    "            wb.get().open_new(url+get)\n",
    "        except sr.UnknownValueError:\n",
    "            print(error)\n",
    "        except sr.RequestError as e:\n",
    "            print('failed'.format(e))   \n",
    "            \n",
    "if 'video' in r1.recognize_google(audio):\n",
    "    r1=sr.Recognizer()\n",
    "    url='https://www.youtube.com/results?search_query='\n",
    "    with sr.Microphone() as source:\n",
    "        print('Search your query')\n",
    "        audio=r2.listen(source)\n",
    "        \n",
    "        try:\n",
    "            get=r1.recognize_google(audio)\n",
    "            print(get)\n",
    "            wb.get().open_new(url+get)\n",
    "        except sr.UnknownValueError:\n",
    "            print(error)\n",
    "        except sr.RequestError as e:\n",
    "            print('failed'.format(e))   "
   ]
  },
  {
   "cell_type": "code",
   "execution_count": null,
   "metadata": {},
   "outputs": [],
   "source": []
  },
  {
   "cell_type": "code",
   "execution_count": null,
   "metadata": {},
   "outputs": [],
   "source": []
  }
 ],
 "metadata": {
  "kernelspec": {
   "display_name": "Python 3",
   "language": "python",
   "name": "python3"
  },
  "language_info": {
   "codemirror_mode": {
    "name": "ipython",
    "version": 3
   },
   "file_extension": ".py",
   "mimetype": "text/x-python",
   "name": "python",
   "nbconvert_exporter": "python",
   "pygments_lexer": "ipython3",
   "version": "3.8.3"
  }
 },
 "nbformat": 4,
 "nbformat_minor": 4
}
