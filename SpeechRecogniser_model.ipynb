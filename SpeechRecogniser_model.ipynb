{
 "cells": [
  {
   "cell_type": "code",
   "execution_count": 31,
   "metadata": {},
   "outputs": [],
   "source": [
    "import speech_recognition as sr\n",
    "import webbrowser as wb\n",
    "\n"
   ]
  },
  {
   "cell_type": "code",
   "execution_count": 32,
   "metadata": {},
   "outputs": [
    {
     "name": "stdout",
     "output_type": "stream",
     "text": [
      "[search quora : search youtube]\n",
      "speak now\n",
      "Search your query\n",
      "Java\n"
     ]
    }
   ],
   "source": [
    "# converting speech to text \n",
    "\n",
    "r1=sr.Recognizer()\n",
    "r2=sr.Recognizer()\n",
    "r3=sr.Recognizer()\n",
    "\n",
    "with sr.Microphone() as source:\n",
    "    print('[search quora : search youtube]')\n",
    "    print('speak now')\n",
    "    audio=r3.listen(source)\n",
    "    \n",
    "if 'text' in r2.recognize_google(audio):\n",
    "    r2=sr.Recognizer()\n",
    "    url='https://www.quora.com/'\n",
    "    with sr.Microphone() as source:\n",
    "        print('Search your query')\n",
    "        audio=r2.listen(source)\n",
    "        \n",
    "        try:\n",
    "            get=r2.recognize_google(audio)\n",
    "            print(get)\n",
    "            wb.get().open_new(url+get)\n",
    "        except sr.UnknownValueError:\n",
    "            print(error)\n",
    "        except sr.RequestError as e:\n",
    "            print('failed'.format(e))   \n",
    "            \n",
    "if 'video' in r1.recognize_google(audio):\n",
    "    r1=sr.Recognizer()\n",
    "    url='https://www.youtube.com/results?search_query='\n",
    "    with sr.Microphone() as source:\n",
    "        print('Search your query')\n",
    "        audio=r2.listen(source)\n",
    "        \n",
    "        try:\n",
    "            get=r1.recognize_google(audio)\n",
    "            print(get)\n",
    "            wb.get().open_new(url+get)\n",
    "        except sr.UnknownValueError:\n",
    "            print(error)\n",
    "        except sr.RequestError as e:\n",
    "            print('failed'.format(e))   "
   ]
  }
 ],
 "metadata": {
  "kernelspec": {
   "display_name": "Python 3",
   "language": "python",
   "name": "python3"
  }
 },
 "nbformat": 4,
 "nbformat_minor": 4
}
